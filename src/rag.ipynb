{
 "cells": [
  {
   "cell_type": "code",
   "execution_count": 24,
   "metadata": {},
   "outputs": [
    {
     "data": {
      "text/plain": [
       "2"
      ]
     },
     "execution_count": 24,
     "metadata": {},
     "output_type": "execute_result"
    }
   ],
   "source": [
    "import tiktoken\n",
    "\n",
    "def get_num_of_token(string: str, enc: \"string\"):\n",
    "    \"\"\"this returns the number of token in text string\"\"\"\n",
    "    encoding = tiktoken.get_encoding(enc)\n",
    "    token = len(encoding.encode(string))\n",
    "    return token\n",
    "\n",
    "\n",
    "get_num_of_token(\"Hello world\", \"cl100k_base\")\n"
   ]
  },
  {
   "cell_type": "code",
   "execution_count": 25,
   "metadata": {},
   "outputs": [
    {
     "name": "stdout",
     "output_type": "stream",
     "text": [
      "1024\n"
     ]
    }
   ],
   "source": [
    "from langchain_ollama import OllamaEmbeddings\n",
    "\n",
    "questions= \"what is javascript\"\n",
    "document = \"JavaScript is a high-level, interpreted programming language primarily used for creating interactive web applications. It is dynamically typed, prototype-based, and supports functional, object-oriented, and imperative programming styles.\"\n",
    "embeddings = OllamaEmbeddings(model=\"mxbai-embed-large\")\n",
    "\n",
    "\n",
    "\n",
    "query_result = embeddings.embed_query(questions)\n",
    "document_result = embeddings.embed_query(document)\n",
    "print(len(query_result))"
   ]
  },
  {
   "cell_type": "code",
   "execution_count": 26,
   "metadata": {},
   "outputs": [
    {
     "data": {
      "text/plain": [
       "np.float64(0.8309821924823665)"
      ]
     },
     "execution_count": 26,
     "metadata": {},
     "output_type": "execute_result"
    }
   ],
   "source": [
    "import numpy\n",
    "def cosine_similarity(vec1, vec2):\n",
    "    by_product = numpy.dot(vec1, vec2)\n",
    "    norm_vec1 = numpy.linalg.norm(vec1)\n",
    "    norm_vec2 = numpy.linalg.norm(vec2)\n",
    "\n",
    "    cosine_sim = by_product / ( norm_vec1 * norm_vec2)\n",
    "    return cosine_sim\n",
    "\n",
    "cosine_similarity(query_result, document_result)"
   ]
  },
  {
   "cell_type": "code",
   "execution_count": 27,
   "metadata": {},
   "outputs": [
    {
     "name": "stdout",
     "output_type": "stream",
     "text": [
      "[Document(metadata={'source': 'https://www.example.com', 'title': 'Example Domain', 'language': 'No language found.'}, page_content='\\n\\n\\nExample Domain\\n\\n\\n\\n\\n\\n\\n\\nExample Domain\\nThis domain is for use in illustrative examples in documents. You may use this\\n    domain in literature without prior coordination or asking for permission.\\nMore information...\\n\\n\\n\\n')]\n"
     ]
    }
   ],
   "source": [
    "from langchain_community.document_loaders import WebBaseLoader\n",
    "\n",
    "loader = WebBaseLoader(web_path=\"https://www.example.com\")\n",
    "data = loader.load()\n",
    "print(data)"
   ]
  },
  {
   "cell_type": "code",
   "execution_count": 28,
   "metadata": {},
   "outputs": [],
   "source": [
    "from langchain.text_splitter import RecursiveCharacterTextSplitter\n",
    "\n",
    "textSplitter = RecursiveCharacterTextSplitter.from_tiktoken_encoder(chunk_size=10, chunk_overlap=2)\n",
    "splitted_docs = textSplitter.split_documents(data)"
   ]
  },
  {
   "cell_type": "code",
   "execution_count": 33,
   "metadata": {},
   "outputs": [
    {
     "name": "stdout",
     "output_type": "stream",
     "text": [
      "tags=['MongoDBAtlasVectorSearch', 'OllamaEmbeddings'] vectorstore=<langchain_community.vectorstores.mongodb_atlas.MongoDBAtlasVectorSearch object at 0x126613110> search_kwargs={}\n"
     ]
    }
   ],
   "source": [
    "from langchain_community.vectorstores import MongoDBAtlasVectorSearch\n",
    "from pymongo import MongoClient\n",
    "import certifi\n",
    "import dotenv\n",
    "from os import path\n",
    "\n",
    "env_path = path.expanduser(\"~\"+\"/langchain-python/.env\")\n",
    "dotenv.load_dotenv(env_path,encoding=\"utf-8\")\n",
    "MONGODB_URI = dotenv.get_key(env_path,  \"MONGODB_URI\")\n",
    "\n",
    "client = MongoClient(MONGODB_URI, tlsCAFile=certifi.where())\n",
    "DB_NAME=\"langchain-test-db\"\n",
    "COLL_NAME=\"langchain-test-vectorstore\"\n",
    "ATLAS_VECTOR_SEARCH_INDEX_NAME=\"langchain-test-index\"\n",
    "\n",
    "collection = client[DB_NAME][COLL_NAME]\n",
    "\n",
    "\n",
    "vector_store = MongoDBAtlasVectorSearch(collection=collection,embedding=embeddings, index_name=ATLAS_VECTOR_SEARCH_INDEX_NAME,relevance_score_fn=\"cosine\")\n",
    "retriever = vector_store.from_documents(documents=splitted_docs, embedding=embeddings,collection=collection).as_retriever()\n",
    "print(retriever)"
   ]
  }
 ],
 "metadata": {
  "kernelspec": {
   "display_name": ".venv",
   "language": "python",
   "name": "python3"
  },
  "language_info": {
   "codemirror_mode": {
    "name": "ipython",
    "version": 3
   },
   "file_extension": ".py",
   "mimetype": "text/x-python",
   "name": "python",
   "nbconvert_exporter": "python",
   "pygments_lexer": "ipython3",
   "version": "3.13.1"
  }
 },
 "nbformat": 4,
 "nbformat_minor": 2
}
