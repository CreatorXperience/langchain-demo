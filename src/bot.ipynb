{
 "cells": [
  {
   "cell_type": "code",
   "execution_count": 13,
   "metadata": {},
   "outputs": [
    {
     "name": "stdout",
     "output_type": "stream",
     "text": [
      "(hen)\n",
      "\n",
      "Note: There are multiple ways to translate \"flame\" into Japanese, depending on the context in which it is used. The word above, (hen), is a general term that refers to a flame or a fire. If you have a specific context or nuance in mind, please let me know and I can try to provide a more precise translation.\n"
     ]
    }
   ],
   "source": [
    "import os\n",
    "from langchain.chat_models import init_chat_model\n",
    "import getpass\n",
    "import dotenv\n",
    "from langchain_core.messages import HumanMessage, SystemMessage\n",
    "from langchain_core.prompts import ChatPromptTemplate\n",
    "\n",
    "env_path = f\"{os.path.expanduser(\"~\")}/langchain-python/.env\"\n",
    "env = dotenv.load_dotenv(env_path, encoding=\"utf-8\")\n",
    "\n",
    "gkey = dotenv.get_key(env_path, \"GROQ_API_KEY\")\n",
    "\n",
    "if not env and gkey:\n",
    "    try:\n",
    "        key = getpass.getpass(\"provide your GROQ API KEY: \")\n",
    "        os.environ[\"GROQ_API_KEY\"] = key\n",
    "    except KeyboardInterrupt:\n",
    "        print(\"\\nCancelled\")\n",
    "\n",
    "def init_model():\n",
    "    try:\n",
    "        model = init_chat_model(\"llama3-8b-8192\", model_provider=\"groq\")\n",
    "        messages = [\n",
    "        SystemMessage(\"translate the following from english to japanese\"),\n",
    "        HumanMessage(\"Flame\"),\n",
    "        ]\n",
    "# AIResponse = model.invoke(messages)\n",
    "# print(AIResponse)\n",
    "\n",
    "        systemMsg = \"translate the following from english to {language}\"\n",
    "        template = ChatPromptTemplate.from_messages([(\"system\", systemMsg), (\"user\", \"{text}\")])\n",
    "        res = template.invoke({\"language\": \"japanese\", \"text\": \"flame\"})\n",
    "        res.to_messages()\n",
    "\n",
    "# for token in model.stream(messages):\n",
    "#     time.sleep(2)\n",
    "#     print(token.content, end=\"|\")\n",
    "        print(model.invoke(res).content)\n",
    "    except ConnectionError : \n",
    "        pass\n",
    "\n",
    "if __name__ == \"__main__\":\n",
    "    init_model()"
   ]
  }
 ],
 "metadata": {
  "kernelspec": {
   "display_name": ".venv",
   "language": "python",
   "name": "python3"
  },
  "language_info": {
   "codemirror_mode": {
    "name": "ipython",
    "version": 3
   },
   "file_extension": ".py",
   "mimetype": "text/x-python",
   "name": "python",
   "nbconvert_exporter": "python",
   "pygments_lexer": "ipython3",
   "version": "3.13.1"
  }
 },
 "nbformat": 4,
 "nbformat_minor": 2
}
